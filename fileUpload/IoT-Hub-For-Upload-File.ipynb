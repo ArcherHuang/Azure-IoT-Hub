{
 "cells": [
  {
   "cell_type": "code",
   "execution_count": null,
   "metadata": {},
   "outputs": [],
   "source": [
    "# 1.1 安裝 Azure CLI\n",
    "!curl -sL https://aka.ms/InstallAzureCLIDeb | sudo bash"
   ]
  },
  {
   "cell_type": "code",
   "execution_count": null,
   "metadata": {},
   "outputs": [],
   "source": [
    "# 1.2 登入 Azure\n",
    "!az login"
   ]
  },
  {
   "cell_type": "code",
   "execution_count": null,
   "metadata": {},
   "outputs": [],
   "source": [
    "# 1.3 相關資訊設定\n",
    "# 設定資源群組所在位置\n",
    "resource_group_location=\"westus\"\n",
    "\n",
    "# 設定資源群組名稱\n",
    "date=\"$(date -d '8hour' +'%Y%m%d')\"\n",
    "resource_group=\"test\"+date\n",
    "\n",
    "# 設定 IoT Hub 名稱\n",
    "tmp=!cat /sys/class/net/eth0/address | sed -e \"s/://g\"\n",
    "hub_name=\"for-rpi-\"+date+tmp[0]\n",
    "\n",
    "# 設定 Device ID\n",
    "device_id=\"rpi-edge-no-1\"\n",
    "\n",
    "# 設定儲存帳號\n",
    "storage_account = \"fileupload\" + date"
   ]
  },
  {
   "cell_type": "code",
   "execution_count": null,
   "metadata": {},
   "outputs": [],
   "source": [
    "# 1.4 新建資源群組\n",
    "!az group create -l $resource_group_location -n $resource_group"
   ]
  },
  {
   "cell_type": "code",
   "execution_count": null,
   "metadata": {},
   "outputs": [],
   "source": [
    "# 1.5 建立 IoT Hub\n",
    "!az iot hub create --resource-group $resource_group --name $hub_name --sku S1"
   ]
  },
  {
   "cell_type": "code",
   "execution_count": null,
   "metadata": {},
   "outputs": [],
   "source": [
    "# 1.6 建立儲存帳號\n",
    "!az storage account create -n $storage_account -g $resource_group"
   ]
  },
  {
   "cell_type": "code",
   "execution_count": null,
   "metadata": {},
   "outputs": [],
   "source": [
    "# 1.7 取得 Azure Storage Account 的 Connection String\n",
    "storage_account_conn_str = !az storage account show-connection-string -n $storage_account \\\n",
    "-g $resource_group | grep -o '\"connectionString\": \"[^\"]*' | grep -o '[^\"]*$'\n",
    "!echo $storage_account_conn_str"
   ]
  },
  {
   "cell_type": "code",
   "execution_count": null,
   "metadata": {},
   "outputs": [],
   "source": [
    "# 1.8 建立 Storage Container\n",
    "container_name = \"edge\"\n",
    "!az storage container create --name $container_name \\\n",
    "--connection-string $storage_account_conn_str"
   ]
  },
  {
   "cell_type": "code",
   "execution_count": null,
   "metadata": {},
   "outputs": [],
   "source": [
    "# 1.9 取得 Azure Storage Account 的 Primary Key 的 Connection String\n",
    "primary_key = !az storage account show-connection-string -g $resource_group \\\n",
    "-n $storage_account --key primary | grep -o '\"connectionString\": \"[^\"]*' | grep -o '[^\"]*$'\n",
    "!echo $primary_key"
   ]
  },
  {
   "cell_type": "code",
   "execution_count": null,
   "metadata": {},
   "outputs": [],
   "source": [
    "# 1.10 建立 Storage account Access key 的 Connection string\n",
    "key = !az storage account keys list --account-name $storage_account -g $resource_group \\\n",
    " | grep -m 1 -o '\"value\": \"[^\"]*' | grep -o '[^\"]*$'\n",
    "keyConnectionString = 'DefaultEndpointsProtocol=https' + '\\;AccountName=' + storage_account + \\\n",
    "'\\;AccountKey=' + key[0] + \\\n",
    "'\\;EndpointSuffix=core.windows.net'"
   ]
  },
  {
   "cell_type": "code",
   "execution_count": null,
   "metadata": {},
   "outputs": [],
   "source": [
    "# 1.11 設定 Azure IoT Hub 的 Storage Container 與 File Notification\n",
    "!az iot hub update --resource-group $resource_group --name $hub_name \\\n",
    "--fileupload-storage-container-name $container_name \\\n",
    "--fileupload-notifications true \\\n",
    "--fileupload-storage-connectionstring $keyConnectionString"
   ]
  },
  {
   "cell_type": "code",
   "execution_count": null,
   "metadata": {},
   "outputs": [],
   "source": [
    "# 1.12 建立 IoT Edge\n",
    "!az iot hub device-identity create --hub-name $hub_name --device-id $device_id"
   ]
  },
  {
   "cell_type": "code",
   "execution_count": null,
   "metadata": {},
   "outputs": [],
   "source": [
    "# 1.13 取得 Azure IoT Hub 的 Connection String\n",
    "!az iot hub show-connection-string --resource-group $resource_group --hub-name $hub_name \\\n",
    "| grep -o '\"connectionString\": \"[^\"]*' | grep -o '[^\"]*$'"
   ]
  },
  {
   "cell_type": "code",
   "execution_count": null,
   "metadata": {},
   "outputs": [],
   "source": [
    "# 1.14 取得 Azure Device 的 Connection String\n",
    "!az iot hub device-identity show-connection-string --resource-group $resource_group \\\n",
    "--device-id $device_id --hub-name $hub_name | grep -o '\"connectionString\": \"[^\"]*' | \\\n",
    "grep -o '[^\"]*$'"
   ]
  },
  {
   "cell_type": "code",
   "execution_count": null,
   "metadata": {},
   "outputs": [],
   "source": []
  }
 ],
 "metadata": {
  "kernelspec": {
   "display_name": "Python 3",
   "language": "python",
   "name": "python3"
  },
  "language_info": {
   "codemirror_mode": {
    "name": "ipython",
    "version": 3
   },
   "file_extension": ".py",
   "mimetype": "text/x-python",
   "name": "python",
   "nbconvert_exporter": "python",
   "pygments_lexer": "ipython3",
   "version": "3.6.8"
  }
 },
 "nbformat": 4,
 "nbformat_minor": 4
}
